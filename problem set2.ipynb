{
 "cells": [
  {
   "cell_type": "markdown",
   "id": "b21b33f2",
   "metadata": {},
   "source": [
    "Question 1  :Consider the following Python module:a = 0def b():global aa = c(a)def c(a):return a + 2After importing the module into the interpreter, you execute:>>> b()>>> b()>>> b()>>> a?What value is displayed when the last expression (a) is evaluated? Explain youranswer by indicating what happens in every executed statement."
   ]
  },
  {
   "cell_type": "code",
   "execution_count": 35,
   "id": "373c4e46",
   "metadata": {},
   "outputs": [
    {
     "name": "stdout",
     "output_type": "stream",
     "text": [
      "6\n"
     ]
    }
   ],
   "source": [
    "a = 0 \n",
    "def c(a):\n",
    "    return a + 2 \n",
    "def b():\n",
    "    global a  \n",
    "    a = c(a)  \n",
    "    a = c(a) \n",
    "    return a + 2\n",
    "result = b()\n",
    "print(result)"
   ]
  },
  {
   "cell_type": "markdown",
   "id": "83616bae",
   "metadata": {},
   "source": [
    "Answer  :  When you call b() for the first time, it tries to access the global variable a, which is 0. It then attempts to call the function c(a) with a as an argument. c(0) will return 2.\n",
    "\n",
    "           When you call b() a second time, it will once again access the global variable a, which is now 2. It calls c(2), and c(2) returns 4. So, the global variable a is modified, and its value becomes 4.\n",
    "           \n",
    "           The same behavior repeats when you call b() for the third time. It accesses the global variable a, which is now 4, and c(4) returns 6. The global variable a is modified to 6.\n",
    "           \n",
    "           The value displayed will be 6 because the global variable a has been modified by the function b() calls, and it now holds the value 6."
   ]
  },
  {
   "cell_type": "markdown",
   "id": "ad1a0b12",
   "metadata": {},
   "source": [
    "Question 2 : Function fileLength(), given to you, takes the name of a file as input and returnsthe length of the file:\n",
    ">>> fileLength('midterm.py')284\n",
    ">>> fileLength('idterm.py')Traceback (most recent call last):File \"<pyshell#34>\", line 1, in <module>fileLength('idterm.py')File \"/Users/me/midterm.py\", line 3, in fileLengthinfile = open(filename)FileNotFoundError: [Errno 2] No such file or directory:'idterm.py'\n",
    "    As shown above, if the file cannot be found by the interpreter or if it cannot be readas a text file, an exception will be raised. Modify function fileLength() so that afriendly message is printed instead:\n",
    "    \n",
    " >>> fileLength('midterm.py')358\n",
    "    >>> fileLength('idterm.py')\n",
    "    File idterm.py not found.\n",
    "    "
   ]
  },
  {
   "cell_type": "code",
   "execution_count": 18,
   "id": "fb2722c3",
   "metadata": {},
   "outputs": [
    {
     "name": "stdout",
     "output_type": "stream",
     "text": [
      "File midterm.py not found.\n",
      "File idterm.py not found.\n"
     ]
    }
   ],
   "source": [
    "def fileLength(filename):\n",
    "    try:\n",
    "        with open(filename, 'r') as infile:\n",
    "            content = infile.read()\n",
    "            length = len(content)\n",
    "            print(length)\n",
    "    except FileNotFoundError:\n",
    "        print(f\"File {filename} not found.\")\n",
    "    except PermissionError:\n",
    "        print(f\"Permission denied while reading {filename}.\")\n",
    "fileLength('midterm.py')\n",
    "fileLength('idterm.py')"
   ]
  },
  {
   "cell_type": "markdown",
   "id": "c4502935",
   "metadata": {},
   "source": [
    "Question 3 : Write a class named Marsupial that can be used as shown below:\n",
    ">>> m = Marsupial()\n",
    ">>> m.put_in_pouch('doll')\n",
    ">>> m.put_in_pouch('firetruck')\n",
    ">>> m.put_in_pouch('kitten')\n",
    ">>> m.pouch_contents()['doll', 'firetruck', 'kitten']Now write a class named Kangaroo as a subclass of Marsupial that inherits all theattributes of Marsupial and also:a. extends the Marsupial __init__ constructor to take, as input, thecoordinates x and y of the Kangaroo object,b. supports method jump that takes number values dx and dy as input andmoves the kangaroo by dx units along the x-axis and by dy units along the y-axis, andc. overloads the __str__ operator so it behaves as shown below.\n",
    ">>> k = Kangaroo(0,0)\n",
    ">>> print(k)I am a Kangaroo located at coordinates (0,0)\n",
    ">>> k.put_in_pouch('doll')\n",
    ">>> k.put_in_pouch('firetruck')\n",
    ">>> k.put_in_pouch('kitten')\n",
    ">>> k.pouch_contents()['doll', 'firetruck', 'kitten']\n",
    ">>> k.jump(1,0)>>> k.jump(1,0)\n",
    ">>> k.jump(1,0)\n",
    ">>> print(k)I am a Kangaroo located at coordinates (3,0)"
   ]
  },
  {
   "cell_type": "code",
   "execution_count": 20,
   "id": "e13ac076",
   "metadata": {},
   "outputs": [
    {
     "name": "stdout",
     "output_type": "stream",
     "text": [
      "['doll', 'firetruck', 'kitten']\n",
      "I am a Kangaroo located at coordinates (0,0)\n",
      "['doll', 'firetruck', 'kitten']\n",
      "I am a Kangaroo located at coordinates (3,0)\n"
     ]
    }
   ],
   "source": [
    "class Marsupial:\n",
    "    def __init__(self):\n",
    "        self.pouch = []\n",
    " \n",
    "    def put_in_pouch(self, item):\n",
    "        self.pouch.append(item)\n",
    " \n",
    "    def pouch_contents(self):\n",
    "        return self.pouch\n",
    " \n",
    " \n",
    "class Kangaroo(Marsupial):\n",
    "    def __init__(self, x, y):\n",
    "        super().__init__()\n",
    "        self.x = x\n",
    "        self.y = y\n",
    " \n",
    "    def jump(self, dx, dy):\n",
    "        self.x += dx\n",
    "        self.y += dy\n",
    " \n",
    "    def __str__(self):\n",
    "        return f\"I am a Kangaroo located at coordinates ({self.x},{self.y})\"\n",
    "m = Marsupial()\n",
    "m.put_in_pouch('doll')\n",
    "m.put_in_pouch('firetruck')\n",
    "m.put_in_pouch('kitten')\n",
    "print(m.pouch_contents())\n",
    " \n",
    "k = Kangaroo(0, 0)\n",
    "print(k)\n",
    "k.put_in_pouch('doll')\n",
    "k.put_in_pouch('firetruck')\n",
    "k.put_in_pouch('kitten')\n",
    "print(k.pouch_contents())\n",
    " \n",
    "k.jump(1, 0)\n",
    "k.jump(1, 0)\n",
    "k.jump(1, 0)\n",
    "print(k)"
   ]
  },
  {
   "cell_type": "markdown",
   "id": "b56ddb54",
   "metadata": {},
   "source": [
    "Question 4 : Write function collatz() that takes a positive integer x as input and prints theCollatz sequence starting at x. \n",
    "A Collatz sequence is obtained by repeatedly applyingthis rule to the previous number x in the sequence:\n",
    "x = { 𝑥/2 𝑖𝑓 𝑥 𝑖𝑠 𝑒𝑣𝑒𝑛3𝑥 + 1 𝑖𝑓 𝑥 𝑖𝑠 𝑜𝑑𝑑Your function should stop when the sequence gets to number 1.\n",
    "Yourimplementation must be recursive, without any loops \n",
    ">>> collatz(1)\n",
    "1\n",
    ">>> collatz(10)\n",
    "10\n",
    "5\n",
    "16\n",
    "8\n",
    "4\n",
    "2\n",
    "1"
   ]
  },
  {
   "cell_type": "code",
   "execution_count": 50,
   "id": "86b77d85",
   "metadata": {},
   "outputs": [
    {
     "name": "stdout",
     "output_type": "stream",
     "text": [
      "1\n",
      "10\n",
      "5\n",
      "16\n",
      "8\n",
      "4\n",
      "2\n",
      "1\n"
     ]
    }
   ],
   "source": [
    "def collatz(x):\n",
    "    # Base case: If x is 1, print it and return.\n",
    "    if x == 1:\n",
    "        print(1)\n",
    "    # Recursive case: If x is even, divide it by 2.\n",
    "    elif x % 2 == 0:\n",
    "        print(x)\n",
    "        collatz(x // 2)\n",
    "    # Recursive case: If x is odd, multiply it by 3 and add 1.\n",
    "    else:\n",
    "        print(x)\n",
    "        collatz(3 * x + 1)\n",
    "collatz(1)\n",
    "collatz(10)\n"
   ]
  },
  {
   "cell_type": "markdown",
   "id": "59b58f3f",
   "metadata": {},
   "source": [
    "Question 5 : Write a recursive method binary() that takes a non-negativeinteger n and prints the binary representation of integer n.\n",
    ">>> binary(0)0\n",
    ">>> binary(1)1\n",
    ">>> binary(3)11\n",
    ">>> binary(9)1001"
   ]
  },
  {
   "cell_type": "code",
   "execution_count": 48,
   "id": "b26f35cf",
   "metadata": {},
   "outputs": [
    {
     "name": "stdout",
     "output_type": "stream",
     "text": [
      "0\n",
      "01\n",
      "011\n",
      "01001"
     ]
    }
   ],
   "source": [
    "def binary(n):    \n",
    "    if n == 0:\n",
    "        print(0, end='')    \n",
    "    else:\n",
    "        binary(n // 2)\n",
    "        print(n % 2, end='')\n",
    "\n",
    "\n",
    "binary(0)\n",
    "print()  \n",
    "binary(1)\n",
    "print()  \n",
    "binary(3)\n",
    "print()  \n",
    "binary(9)\n"
   ]
  },
  {
   "cell_type": "markdown",
   "id": "0736c56d",
   "metadata": {},
   "source": [
    "Question 8 : Write SQL queries on the below database table that return:\n",
    "a) All the temperature data.\n",
    "b) All the cities, but without repetition.\n",
    "c) All the records for India.\n",
    "d) All the Fall records \n",
    "e) The city, country, and season for which the average rainfall is between 200and 400 millimeters.\n",
    "f) The city and country for which the average Fall temperature is above 20degrees, in increasing temperature order.\n",
    "g) The total annual rainfall for Cairo.\n",
    "h) The total rainfall for each season.......\n"
   ]
  },
  {
   "cell_type": "code",
   "execution_count": 47,
   "id": "c295e9e2",
   "metadata": {},
   "outputs": [
    {
     "name": "stdout",
     "output_type": "stream",
     "text": [
      "a) All Temperature Data: [(24.8,), (28.4,), (27.9,), (27.6,), (4.2,), (8.3,), (15.7,), (10.4,), (13.6,), (20.7,), (27.7,), (22.2,)]\n",
      "b) All Unique Cities: [('Mumbai',), ('London',), ('Cairo',)]\n",
      "c) Records for India: [('Mumbai', 'India', 'Winter', 24.8, 5.9), ('Mumbai', 'India', 'Spring', 28.4, 16.2), ('Mumbai', 'India', 'Summer', 27.9, 1549.4), ('Mumbai', 'India', 'Fall', 27.6, 346.0)]\n",
      "d) Fall Records: [('Mumbai', 'India', 'Fall', 27.6, 346.0), ('London', 'United Kingdom', 'Fall', 10.4, 218.5), ('Cairo', 'Egypt', 'Fall', 22.2, 4.5)]\n",
      "e) Average Rainfall between 200 and 400: [('London', 'United Kingdom', 'Fall'), ('London', 'United Kingdom', 'Winter'), ('Mumbai', 'India', 'Fall')]\n",
      "f) High-Temperature Cities in Fall: [('Mumbai', 'India'), ('Cairo', 'Egypt')]\n",
      "g) Total Rainfall for Cairo: 27.6\n",
      "h) Total Rainfall by Season: [('Fall', 569.0), ('Spring', 192.29999999999998), ('Summer', 1706.5), ('Winter', 230.1)]\n"
     ]
    }
   ],
   "source": [
    "import sqlite3\n",
    "\n",
    "conn = sqlite3.connect('abindran_.db')\n",
    "cursor = conn.cursor()\n",
    "\n",
    "cursor.execute('''\n",
    "    CREATE TABLE weather \n",
    "    (City TEXT, Country TEXT, Season TEXT, \"Temperature(C)\" FLOAT, \"Rainfall(mm)\" FLOAT)\n",
    "''')\n",
    "\n",
    "weather_data = [\n",
    "    ('Mumbai', 'India', 'Winter', 24.8, 5.9),\n",
    "    ('Mumbai', 'India', 'Spring', 28.4, 16.2),\n",
    "    ('Mumbai', 'India', 'Summer', 27.9, 1549.4),\n",
    "    ('Mumbai', 'India', 'Fall', 27.6, 346.0),\n",
    "    ('London', 'United Kingdom', 'Winter', 4.2, 207.7),\n",
    "    ('London', 'United Kingdom', 'Spring', 8.3, 169.6),\n",
    "    ('London', 'United Kingdom', 'Summer', 15.7, 157.0),\n",
    "    ('London', 'United Kingdom', 'Fall', 10.4, 218.5),\n",
    "    ('Cairo', 'Egypt', 'Winter', 13.6, 16.5),\n",
    "    ('Cairo', 'Egypt', 'Spring', 20.7, 6.5),\n",
    "    ('Cairo', 'Egypt', 'Summer', 27.7, 0.1),\n",
    "    ('Cairo', 'Egypt', 'Fall', 22.2, 4.5)\n",
    "]\n",
    "\n",
    "cursor.executemany('''\n",
    "    INSERT INTO weather (City, Country, Season, \"Temperature(C)\", \"Rainfall(mm)\")\n",
    "    VALUES (?, ?, ?, ?, ?)\n",
    "''', weather_data)\n",
    "\n",
    "#All the temperature data.\n",
    "cursor.execute('SELECT \"Temperature(C)\" FROM weather')\n",
    "temperature_data = cursor.fetchall()\n",
    "\n",
    "#All the cities, but without repetition.\n",
    "cursor.execute('SELECT DISTINCT City FROM weather')\n",
    "unique_cities = cursor.fetchall()\n",
    "\n",
    "#All the records for India.\n",
    "cursor.execute('SELECT * FROM weather WHERE Country = \"India\"')\n",
    "india_records = cursor.fetchall()\n",
    "\n",
    "#All the Fall records.\n",
    "cursor.execute('SELECT * FROM weather WHERE Season = \"Fall\"')\n",
    "fall_records = cursor.fetchall()\n",
    "\n",
    "#The city, country, and season for which the average rainfall is b/w 200 and 400 ml.\n",
    "cursor.execute('''\n",
    "    SELECT City, Country, Season\n",
    "    FROM weather\n",
    "    GROUP BY City, Country, Season\n",
    "    HAVING AVG(\"Rainfall(mm)\") BETWEEN 200 AND 400\n",
    "''')\n",
    "rainfall_between_200_400 = cursor.fetchall()\n",
    "\n",
    "#The city and country for which the average Fall temp is above 20 degrees, in descending temp order.\n",
    "cursor.execute('''\n",
    "    SELECT City, Country\n",
    "    FROM weather\n",
    "    WHERE Season = \"Fall\"\n",
    "    GROUP BY City, Country\n",
    "    HAVING AVG(\"Temperature(C)\") > 20\n",
    "    ORDER BY AVG(\"Temperature(C)\") DESC\n",
    "''')\n",
    "high_temp_cities_in_fall = cursor.fetchall()\n",
    "\n",
    "#The total annual rainfall for Cairo.\n",
    "cursor.execute('SELECT SUM(\"Rainfall(mm)\") AS \"Total Rainfall\" FROM weather WHERE City = \"Cairo\"')\n",
    "cairo_total_rainfall = cursor.fetchone()[0]\n",
    "\n",
    "#The total rainfall for each season.\n",
    "cursor.execute('SELECT Season, SUM(\"Rainfall(mm)\") AS \"Total Rainfall\" FROM weather GROUP BY Season')\n",
    "total_rainfall_by_season = cursor.fetchall()\n",
    "\n",
    "# results\n",
    "print(\"a) All Temperature Data:\", temperature_data)\n",
    "print(\"b) All Unique Cities:\", unique_cities)\n",
    "print(\"c) Records for India:\", india_records)\n",
    "print(\"d) Fall Records:\", fall_records)\n",
    "print(\"e) Average Rainfall between 200 and 400:\", rainfall_between_200_400)\n",
    "print(\"f) High-Temperature Cities in Fall:\", high_temp_cities_in_fall)\n",
    "print(\"g) Total Rainfall for Cairo:\", cairo_total_rainfall)\n",
    "print(\"h) Total Rainfall by Season:\", total_rainfall_by_season)\n",
    "\n",
    "conn.commit()\n",
    "conn.close()\n"
   ]
  },
  {
   "cell_type": "markdown",
   "id": "ddc98543",
   "metadata": {},
   "source": [
    "Question 9 : Suppose list words is defined as follows:\n",
    ">>> words = ['The', 'quick', 'brown', 'fox', 'jumps', 'over','the', 'lazy', 'dog']\n",
    "Write list comprehension expressions that use list words and generate the followinglists:\n",
    "a) ['THE', 'QUICK', 'BROWN', 'FOX', 'JUMPS', 'OVER', 'THE','LAZY', 'DOG']\n",
    "b) ['the', 'quick', 'brown', 'fox', 'jumps', 'over', 'the','lazy', 'dog']\n",
    "c) [3, 5, 5, 3, 5, 4, 3, 4, 3] (the list of lengths of words in listwords).\n",
    "d) [['THE', 'the', 3], ['QUICK', 'quick', 5], ['BROWN','brown', 5], ['FOX', 'fox', 3], ['JUMPS', 'jumps', 5],['OVER', 'over', 4], ['THE', 'the', 3], ['LAZY', 'lazy',4], ['DOG', 'dog', 3]] (the list containing a list for every word of listwords, where each list contains the word in uppercase and lowercase and thelength of the word.)\n",
    "e) ['The', 'quick', 'brown', 'fox', 'jumps', 'over', 'the','lazy', 'dog'] (the list of words in list words containing 4 or morecharacters.)"
   ]
  },
  {
   "cell_type": "code",
   "execution_count": 39,
   "id": "7bf0330c",
   "metadata": {},
   "outputs": [
    {
     "name": "stdout",
     "output_type": "stream",
     "text": [
      "['THE', 'QUICK', 'BROWN', 'FOX', 'JUMPS', 'OVER', 'THE', 'LAZY', 'DOG']\n",
      "['the', 'quick', 'brown', 'fox', 'jumps', 'over', 'the', 'lazy', 'dog']\n",
      "[3, 5, 5, 3, 5, 4, 3, 4, 3]\n",
      "[['THE', 'the', 3], ['QUICK', 'quick', 5], ['BROWN', 'brown', 5], ['FOX', 'fox', 3], ['JUMPS', 'jumps', 5], ['OVER', 'over', 4], ['THE', 'the', 3], ['LAZY', 'lazy', 4], ['DOG', 'dog', 3]]\n",
      "['quick', 'brown', 'jumps', 'over', 'lazy']\n"
     ]
    }
   ],
   "source": [
    "# this is the Given list\n",
    "words = ['The', 'quick', 'brown', 'fox', 'jumps', 'over', 'the', 'lazy', 'dog']\n",
    "\n",
    "\n",
    "uppercase_words = [word.upper() for word in words]\n",
    "print(uppercase_words)\n",
    "\n",
    "\n",
    "lowercase_words = [word.lower() for word in words]\n",
    "print(lowercase_words)\n",
    "\n",
    "\n",
    "word_lengths = [len(word) for word in words]\n",
    "print(word_lengths)\n",
    "\n",
    "\n",
    "word_info = [[word.upper(), word.lower(), len(word)] for word in words]\n",
    "print(word_info)\n",
    "\n",
    "long_words = [word for word in words if len(word) >= 4]\n",
    "print(long_words)\n"
   ]
  },
  {
   "cell_type": "code",
   "execution_count": null,
   "id": "b13f2b83",
   "metadata": {},
   "outputs": [],
   "source": []
  }
 ],
 "metadata": {
  "kernelspec": {
   "display_name": "Python 3 (ipykernel)",
   "language": "python",
   "name": "python3"
  },
  "language_info": {
   "codemirror_mode": {
    "name": "ipython",
    "version": 3
   },
   "file_extension": ".py",
   "mimetype": "text/x-python",
   "name": "python",
   "nbconvert_exporter": "python",
   "pygments_lexer": "ipython3",
   "version": "3.11.5"
  }
 },
 "nbformat": 4,
 "nbformat_minor": 5
}
